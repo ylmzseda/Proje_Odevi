{
  "cells": [
    {
      "cell_type": "markdown",
      "metadata": {
        "id": "view-in-github",
        "colab_type": "text"
      },
      "source": [
        "<a href=\"https://colab.research.google.com/github/ylmzseda/Proje_Odevi/blob/main/odev_1_Son_.ipynb\" target=\"_parent\"><img src=\"https://colab.research.google.com/assets/colab-badge.svg\" alt=\"Open In Colab\"/></a>"
      ]
    },
    {
      "cell_type": "code",
      "source": [
        "#1.girilen sayı pozitif negatif sıfır olduğu koşul\n",
        "sayi=int(input(\"bir sayı gir:\"))\n",
        "\n",
        "if sayi>0:\n",
        "  print(\"sayi pozifitir\")\n",
        "elif sayi<0:\n",
        "    print(\"sayi negatiftir\")\n",
        "else:\n",
        "    print(\"sayi sifirdir\")"
      ],
      "metadata": {
        "id": "_sWRhKd9BgrW"
      },
      "execution_count": null,
      "outputs": []
    },
    {
      "cell_type": "code",
      "source": [
        "#2.girilen sayı tek mi çift mi\n",
        "sayi=int(input(\"bir sayi giriniz:\"))\n",
        "if sayi%2==0:\n",
        " print(\"sayı çift\")\n",
        "else:\n",
        " print(\"sayı tek\")\n"
      ],
      "metadata": {
        "id": "deAt5To8Bi2-"
      },
      "execution_count": null,
      "outputs": []
    },
    {
      "cell_type": "code",
      "source": [
        "#3.not aralığı girme ve harf notu tayini\n",
        "not1= int(input(\"notu giriniz :\"))\n",
        "if not1>=80:\n",
        "  print(\"A\")\n",
        "elif 60<=not1<80:\n",
        "  print(\"B\")\n",
        "elif 40<=not1<60:\n",
        "  print(\"c\")\n",
        "elif 20<=not1<40:\n",
        "  print(\"D\")\n",
        "elif 0<=not1<20:\n",
        "  print(\"F\")"
      ],
      "metadata": {
        "id": "B6iH3dznBmUM"
      },
      "execution_count": null,
      "outputs": []
    },
    {
      "cell_type": "code",
      "source": [
        "#4.isim gir, 5 karakterden fazla ise uyarı ver\n",
        "isim= input(\"isim giriniz:\")\n",
        "if len(isim)>5:\n",
        "  print(\"karakter sayısı fazla\")\n",
        "else:\n",
        "    print(\"karakter sayısı uygun\")"
      ],
      "metadata": {
        "id": "YCrLuBgzBuTy"
      },
      "execution_count": null,
      "outputs": []
    },
    {
      "cell_type": "code",
      "execution_count": null,
      "metadata": {
        "colab": {
          "base_uri": "https://localhost:8080/"
        },
        "id": "3dTYPSemUQNT",
        "outputId": "fce73d9c-d248-4c3c-e6f4-139efc8f216c"
      },
      "outputs": [
        {
          "name": "stdout",
          "output_type": "stream",
          "text": [
            "Bir sayı giriniz: 2\n",
            "Asal sayıdır\n"
          ]
        }
      ],
      "source": [
        "#5.girilen sayının asal olup olmadığını bulan kod dizisi. (for ve while)\n",
        "#for ile\n",
        "\n",
        "sayi = int(input(\"Bir sayı giriniz: \"))\n",
        "\n",
        "if sayi < 2:\n",
        "    print(\"Asal sayı değildir\")\n",
        "else:\n",
        "    # 2'den balayıp int sayıların asal olup olmadığı\n",
        "\n",
        "    for i in range(2, sayi):\n",
        "        if sayi % i == 0:\n",
        "            print(\"Asal sayı değildir\")\n",
        "            break\n",
        "    else:\n",
        "\n",
        "        print(\"Asal sayıdır\")"
      ]
    },
    {
      "cell_type": "code",
      "execution_count": null,
      "metadata": {
        "colab": {
          "base_uri": "https://localhost:8080/"
        },
        "id": "Qk-0AZ1VZOWK",
        "outputId": "4e452fb5-9613-452a-92b1-76014c7389eb"
      },
      "outputs": [
        {
          "name": "stdout",
          "output_type": "stream",
          "text": [
            "Bir sayı girin: 7\n",
            "Asal sayı.\n"
          ]
        }
      ],
      "source": [
        "#while ile\n",
        "sayi = int(input(\"Bir sayı girin: \"))\n",
        "\n",
        "if sayi < 2:\n",
        "    print(\"Asal değil.\")\n",
        "else:\n",
        "    i = 2\n",
        "    while i < sayi:\n",
        "        if sayi % i == 0:\n",
        "            print(\"Asal değil.\")\n",
        "            break\n",
        "        #iterasyon bir arttırarak devam etsin\n",
        "        i += 1\n",
        "    else:\n",
        "        print(\"Asal sayı.\")"
      ]
    },
    {
      "cell_type": "code",
      "execution_count": null,
      "metadata": {
        "colab": {
          "base_uri": "https://localhost:8080/"
        },
        "id": "ME1wRkAUa-Lw",
        "outputId": "3d440a0e-d94b-4e22-b028-5f5f653332c6"
      },
      "outputs": [
        {
          "name": "stdout",
          "output_type": "stream",
          "text": [
            "2\n"
          ]
        }
      ],
      "source": [
        "#6.notlar=[45,85,75,50] içinde 75 değerinin indisini yazdıran döngü\n",
        "\n",
        "notlar = [45, 85, 75, 50]\n",
        "\n",
        "for i in range(len(notlar)):      # notlaR listesinin içindeki elemanlar i\n",
        "    if notlar[i] == 75:           # i=75 olan hangisi bulma\n",
        "        print(i)\n",
        "        break"
      ]
    },
    {
      "cell_type": "code",
      "execution_count": null,
      "metadata": {
        "colab": {
          "base_uri": "https://localhost:8080/"
        },
        "id": "y2CXWapOctPF",
        "outputId": "2496d90a-eeba-4d6e-e42d-c20c28c7bf70"
      },
      "outputs": [
        {
          "name": "stdout",
          "output_type": "stream",
          "text": [
            "Bir sayı giriniz: 5\n",
            "1\n",
            "2\n",
            "6\n",
            "24\n",
            "120\n"
          ]
        }
      ],
      "source": [
        "#7.girilen sayının faktöriyelini alalım. (for ve while)\n",
        "#for ile\n",
        "sayi = int(input(\"Bir sayı giriniz: \"))\n",
        "faktoriyel=1\n",
        "for i in range(1,sayi+1):\n",
        "    faktoriyel*=i\n",
        "    print(faktoriyel)\n",
        "\n"
      ]
    },
    {
      "cell_type": "code",
      "execution_count": null,
      "metadata": {
        "colab": {
          "base_uri": "https://localhost:8080/"
        },
        "id": "7VdAOq7tfD1C",
        "outputId": "1bde0860-4998-468e-8239-9734ab2a8e78"
      },
      "outputs": [
        {
          "name": "stdout",
          "output_type": "stream",
          "text": [
            "Bir sayı giriniz: 5\n",
            "120\n"
          ]
        }
      ],
      "source": [
        "#while ile\n",
        "sayi = int(input(\"Bir sayı giriniz: \"))\n",
        "faktoriyel = 1\n",
        "i = 1\n",
        "while i <= sayi:\n",
        "    faktoriyel *= i\n",
        "    i += 1\n",
        "print(faktoriyel)\n"
      ]
    },
    {
      "cell_type": "code",
      "source": [
        "# 8.Kullanıcıdan pozitif bir sayı bekleyen, pozitifi de gördüğü an bastıran, negatif sayı girildikçe bir daha soran yapı kuralım. (for döngüsü ile)\n",
        "# pozitif sayı yazana kadar sonsuza dek tekrar sayı gir yazması için komıtu işletmek için gerekli kütüphaneyi çağırma\n",
        "from itertools import repeat\n",
        "\n",
        "for _ in repeat(None):\n",
        "    sayi = int(input(\"Tekrar sayı giriniz \"))\n",
        "    if sayi > 0:\n",
        "        print( sayi)\n",
        "        break"
      ],
      "metadata": {
        "colab": {
          "base_uri": "https://localhost:8080/"
        },
        "id": "nX8JOnXg9720",
        "outputId": "f8e44a9a-c729-4d96-db80-fae250c2bb61"
      },
      "execution_count": null,
      "outputs": [
        {
          "output_type": "stream",
          "name": "stdout",
          "text": [
            "Tekrar sayı giriniz 5\n",
            "5\n"
          ]
        }
      ]
    }
  ],
  "metadata": {
    "colab": {
      "provenance": [],
      "authorship_tag": "ABX9TyPAYxprFcUs84OwBXScpnmO",
      "include_colab_link": true
    },
    "kernelspec": {
      "display_name": "Python 3",
      "name": "python3"
    },
    "language_info": {
      "name": "python"
    }
  },
  "nbformat": 4,
  "nbformat_minor": 0
}